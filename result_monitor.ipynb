{
 "cells": [
  {
   "cell_type": "code",
   "execution_count": 86,
   "metadata": {},
   "outputs": [],
   "source": [
    "import numpy as np\n",
    "import matplotlib.pyplot as plt\n",
    "%matplotlib inline"
   ]
  },
  {
   "cell_type": "code",
   "execution_count": 87,
   "metadata": {},
   "outputs": [],
   "source": [
    "y_true = np.load('/home/matsunaga/data/dense/y_true.npy')\n",
    "y_pred = np.load('/home/matsunaga/data/dense/y_pred.npy')\n",
    "y_pos  = np.load('/home/matsunaga/data/dense/posterior.npy')"
   ]
  },
  {
   "cell_type": "code",
   "execution_count": 88,
   "metadata": {},
   "outputs": [
    {
     "data": {
      "text/plain": [
       "array([1., 1., 1., ..., 0., 0., 0.])"
      ]
     },
     "execution_count": 88,
     "metadata": {},
     "output_type": "execute_result"
    }
   ],
   "source": [
    "y_true"
   ]
  },
  {
   "cell_type": "code",
   "execution_count": 89,
   "metadata": {},
   "outputs": [
    {
     "data": {
      "text/plain": [
       "array([0., 0., 0., ..., 0., 0., 0.])"
      ]
     },
     "execution_count": 89,
     "metadata": {},
     "output_type": "execute_result"
    }
   ],
   "source": [
    "y_pred"
   ]
  },
  {
   "cell_type": "code",
   "execution_count": 90,
   "metadata": {},
   "outputs": [
    {
     "data": {
      "text/plain": [
       "array([[9.9096346e-01, 9.0365643e-03],\n",
       "       [9.9516535e-01, 4.8346235e-03],\n",
       "       [9.8046607e-01, 1.9533951e-02],\n",
       "       ...,\n",
       "       [1.0000000e+00, 1.0944455e-08],\n",
       "       [9.9999666e-01, 3.2870494e-06],\n",
       "       [9.9692011e-01, 3.0799201e-03]], dtype=float32)"
      ]
     },
     "execution_count": 90,
     "metadata": {},
     "output_type": "execute_result"
    }
   ],
   "source": [
    "y_pos"
   ]
  },
  {
   "cell_type": "code",
   "execution_count": 91,
   "metadata": {},
   "outputs": [
    {
     "name": "stdout",
     "output_type": "stream",
     "text": [
      "5677\n",
      "1620\n"
     ]
    },
    {
     "data": {
      "text/plain": [
       "459"
      ]
     },
     "execution_count": 91,
     "metadata": {},
     "output_type": "execute_result"
    }
   ],
   "source": [
    "num_1=len(np.where(y_pred==1.0)[0])\n",
    "num_0=len(np.where(y_pred==0.0)[0])\n",
    "print(num_0)\n",
    "print(num_1)\n",
    "len(np.where(y_true!=y_pred)[0])"
   ]
  },
  {
   "cell_type": "code",
   "execution_count": 92,
   "metadata": {},
   "outputs": [],
   "source": [
    "pair_1 = {'label':[0]*int(num_1), 'pos':[0]*int(num_1)}\n",
    "pair_0 = {'label':[0]*int(num_0), 'pos':[0]*int(num_0)} \n",
    "\n",
    "c_0=0\n",
    "c_1=0\n",
    "\n",
    "for i in range(len(y_true)):\n",
    "    label = y_true[i]\n",
    "    pred = int(y_pred[i])\n",
    "    pos = y_pos[i][int(y_pred[i])]\n",
    "    if pred == 0:\n",
    "        pair_0['label'][c_0] = label\n",
    "        pair_0['pos'][c_0] = pos\n",
    "        c_0 = c_0+1\n",
    "    else:\n",
    "        pair_1['label'][c_1] = label\n",
    "        pair_1['pos'][c_1] = pos\n",
    "        c_1 = c_1+1\n"
   ]
  },
  {
   "cell_type": "code",
   "execution_count": 93,
   "metadata": {},
   "outputs": [],
   "source": [
    "label_1 = np.array(pair_1['label'])\n",
    "pos_1 = np.array(pair_1['pos'])\n",
    "label_0 = np.array(pair_0['label'])\n",
    "pos_0 = np.array(pair_0['pos'])"
   ]
  },
  {
   "cell_type": "code",
   "execution_count": 94,
   "metadata": {},
   "outputs": [],
   "source": [
    "#1を0と誤判\n",
    "true_1_pred_0=pos_1[np.where(label_1==0.0)[0]]\n",
    "true_0_pred_1=pos_0[np.where(label_0==1.0)[0]]"
   ]
  },
  {
   "cell_type": "code",
   "execution_count": 100,
   "metadata": {},
   "outputs": [
    {
     "data": {
      "image/png": "[encoded data removed]",
      "text/plain": [
       "<Figure size 432x288 with 1 Axes>"
      ]
     },
     "metadata": {
      "needs_background": "light"
     },
     "output_type": "display_data"
    }
   ],
   "source": [
    "import seaborn as sns\n",
    "plt.figure()\n",
    "sns.distplot(true_1_pred_0,label='FN',hist=False)\n",
    "sns.distplot(true_0_pred_1,label='FP',hist=False)\n",
    "plt.legend()\n",
    "plt.savefig('/home/matsunaga/data/dense/False_Posterior.png')"
   ]
  },
  {
   "cell_type": "code",
   "execution_count": 96,
   "metadata": {},
   "outputs": [
    {
     "data": {
      "text/plain": [
       "<matplotlib.axes._subplots.AxesSubplot at 0x7f0bca713f28>"
      ]
     },
     "execution_count": 96,
     "metadata": {},
     "output_type": "execute_result"
    },
    {
     "data": {
      "image/png": "[encoded data removed]",
      "text/plain": [
       "<Figure size 432x288 with 1 Axes>"
      ]
     },
     "metadata": {
      "needs_background": "light"
     },
     "output_type": "display_data"
    }
   ],
   "source": [
    "sns.distplot(true_0_pred_1)"
   ]
  },
  {
   "cell_type": "code",
   "execution_count": 80,
   "metadata": {},
   "outputs": [],
   "source": [
    "import torch\n",
    "out=torch.rand(16,2)"
   ]
  },
  {
   "cell_type": "code",
   "execution_count": 84,
   "metadata": {},
   "outputs": [],
   "source": [
    "pred=torch.nn.functional.softmax(out,dim=1)\n",
    "pred_ = torch.nn.functional.softmax(out,dim=0)"
   ]
  },
  {
   "cell_type": "code",
   "execution_count": 85,
   "metadata": {},
   "outputs": [
    {
     "data": {
      "text/plain": [
       "tensor([[0.0932, 0.0743],\n",
       "        [0.0414, 0.0392],\n",
       "        [0.0372, 0.0976],\n",
       "        [0.0785, 0.0691],\n",
       "        [0.0527, 0.0819],\n",
       "        [0.0598, 0.0426],\n",
       "        [0.0647, 0.0523],\n",
       "        [0.0709, 0.0410],\n",
       "        [0.0458, 0.0525],\n",
       "        [0.0905, 0.0764],\n",
       "        [0.0351, 0.0690],\n",
       "        [0.0580, 0.0792],\n",
       "        [0.0734, 0.0722],\n",
       "        [0.0580, 0.0446],\n",
       "        [0.0822, 0.0549],\n",
       "        [0.0587, 0.0534]])"
      ]
     },
     "execution_count": 85,
     "metadata": {},
     "output_type": "execute_result"
    }
   ],
   "source": [
    "pred_\n"
   ]
  },
  {
   "cell_type": "code",
   "execution_count": null,
   "metadata": {},
   "outputs": [],
   "source": []
  }
 ],
 "metadata": {
  "kernelspec": {
   "display_name": "meta_cognition",
   "language": "python",
   "name": "meta_cognition"
  },
  "language_info": {
   "codemirror_mode": {
    "name": "ipython",
    "version": 3
   },
   "file_extension": ".py",
   "mimetype": "text/x-python",
   "name": "python",
   "nbconvert_exporter": "python",
   "pygments_lexer": "ipython3",
   "version": "3.6.7"
  }
 },
 "nbformat": 4,
 "nbformat_minor": 4
}
